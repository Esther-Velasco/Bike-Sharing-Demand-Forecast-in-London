{
 "cells": [
  {
   "cell_type": "markdown",
   "id": "9c3904d8-4310-4977-ab26-0591b5bc8fab",
   "metadata": {},
   "source": [
    "# Connecting to London transport API"
   ]
  },
  {
   "cell_type": "code",
   "execution_count": 1,
   "id": "5b969f94-0aed-4e71-b709-5464293a0384",
   "metadata": {},
   "outputs": [],
   "source": [
    "import requests\n",
    "import json\n",
    "import pandas as pd\n",
    "reply = requests.get(\"https://api.tfl.gov.uk/BikePoint/\")\n",
    "data = reply.json()"
   ]
  },
  {
   "cell_type": "code",
   "execution_count": 2,
   "id": "8f3355b5-7e2e-4e57-874d-2a17ef89b928",
   "metadata": {},
   "outputs": [
    {
     "data": {
      "text/plain": [
       "798"
      ]
     },
     "execution_count": 2,
     "metadata": {},
     "output_type": "execute_result"
    }
   ],
   "source": [
    "# there are almost 800 stations in London\n",
    "len(data)"
   ]
  },
  {
   "cell_type": "code",
   "execution_count": 3,
   "id": "e510e000-e5ca-4d8c-8605-4dc3ecea08c3",
   "metadata": {},
   "outputs": [],
   "source": [
    "# creating a loop to save data for each column I want to have in my DF\n",
    "\n",
    "#Create a list with latitudes of bike stations inside first call:\n",
    "\n",
    "latitudes_list = []\n",
    "for i in data:\n",
    "    latitudes_list.append(i[\"lat\"])\n",
    "\n",
    "longitudes_list = []\n",
    "for i in data:\n",
    "    longitudes_list.append(i[\"lon\"])\n",
    "\n",
    "location_list = []\n",
    "for i in data:\n",
    "    location_list.append(i[\"commonName\"])\n",
    "\n",
    "nb_ebikes_list = []\n",
    "for i in data:\n",
    "    nb_ebikes_list.append(i['additionalProperties'][10][\"value\"])\n",
    "\n",
    "nb_stdbikes_list = []\n",
    "for i in data:\n",
    "    nb_stdbikes_list.append(i['additionalProperties'][9][\"value\"])\n",
    "\n",
    "total_bikes_list = []\n",
    "for i in data:\n",
    "    total_bikes_list.append(i['additionalProperties'][6][\"value\"])\n",
    "\n",
    "time = []\n",
    "for i in data:\n",
    "    time.append(i['additionalProperties'][0][\"modified\"])\n"
   ]
  },
  {
   "cell_type": "code",
   "execution_count": 4,
   "id": "4bb254f3-07e1-4b72-a980-46ee6971d676",
   "metadata": {},
   "outputs": [],
   "source": [
    "# put all in a df\n",
    "real_time_df = pd.DataFrame({'location': location_list, 'latitude': latitudes_list,\n",
    "                            'longitude': longitudes_list, 'ebike_amount': nb_ebikes_list,\n",
    "                            'std_bike_amount': nb_stdbikes_list, 'total_bikes': total_bikes_list,\n",
    "                            'time': time})"
   ]
  },
  {
   "cell_type": "code",
   "execution_count": 5,
   "id": "0ae2637a-b80f-4482-9a9d-3f7d926f57a1",
   "metadata": {
    "scrolled": true
   },
   "outputs": [
    {
     "data": {
      "text/html": [
       "<div>\n",
       "<style scoped>\n",
       "    .dataframe tbody tr th:only-of-type {\n",
       "        vertical-align: middle;\n",
       "    }\n",
       "\n",
       "    .dataframe tbody tr th {\n",
       "        vertical-align: top;\n",
       "    }\n",
       "\n",
       "    .dataframe thead th {\n",
       "        text-align: right;\n",
       "    }\n",
       "</style>\n",
       "<table border=\"1\" class=\"dataframe\">\n",
       "  <thead>\n",
       "    <tr style=\"text-align: right;\">\n",
       "      <th></th>\n",
       "      <th>location</th>\n",
       "      <th>latitude</th>\n",
       "      <th>longitude</th>\n",
       "      <th>ebike_amount</th>\n",
       "      <th>std_bike_amount</th>\n",
       "      <th>total_bikes</th>\n",
       "      <th>time</th>\n",
       "    </tr>\n",
       "  </thead>\n",
       "  <tbody>\n",
       "    <tr>\n",
       "      <th>0</th>\n",
       "      <td>River Street , Clerkenwell</td>\n",
       "      <td>51.529163</td>\n",
       "      <td>-0.109970</td>\n",
       "      <td>0</td>\n",
       "      <td>12</td>\n",
       "      <td>12</td>\n",
       "      <td>2023-12-12T16:21:37.32Z</td>\n",
       "    </tr>\n",
       "    <tr>\n",
       "      <th>1</th>\n",
       "      <td>Phillimore Gardens, Kensington</td>\n",
       "      <td>51.499606</td>\n",
       "      <td>-0.197574</td>\n",
       "      <td>0</td>\n",
       "      <td>22</td>\n",
       "      <td>22</td>\n",
       "      <td>2023-12-12T16:33:57.54Z</td>\n",
       "    </tr>\n",
       "    <tr>\n",
       "      <th>2</th>\n",
       "      <td>Christopher Street, Liverpool Street</td>\n",
       "      <td>51.521283</td>\n",
       "      <td>-0.084605</td>\n",
       "      <td>1</td>\n",
       "      <td>23</td>\n",
       "      <td>24</td>\n",
       "      <td>2023-12-12T16:21:37.32Z</td>\n",
       "    </tr>\n",
       "    <tr>\n",
       "      <th>3</th>\n",
       "      <td>St. Chad's Street, King's Cross</td>\n",
       "      <td>51.530059</td>\n",
       "      <td>-0.120973</td>\n",
       "      <td>1</td>\n",
       "      <td>12</td>\n",
       "      <td>13</td>\n",
       "      <td>2023-12-12T16:28:35.23Z</td>\n",
       "    </tr>\n",
       "    <tr>\n",
       "      <th>4</th>\n",
       "      <td>Sedding Street, Sloane Square</td>\n",
       "      <td>51.493130</td>\n",
       "      <td>-0.156876</td>\n",
       "      <td>0</td>\n",
       "      <td>25</td>\n",
       "      <td>25</td>\n",
       "      <td>2023-12-12T16:31:57.05Z</td>\n",
       "    </tr>\n",
       "    <tr>\n",
       "      <th>...</th>\n",
       "      <td>...</td>\n",
       "      <td>...</td>\n",
       "      <td>...</td>\n",
       "      <td>...</td>\n",
       "      <td>...</td>\n",
       "      <td>...</td>\n",
       "      <td>...</td>\n",
       "    </tr>\n",
       "    <tr>\n",
       "      <th>793</th>\n",
       "      <td>Crimscott Street, Bermondsey</td>\n",
       "      <td>51.495598</td>\n",
       "      <td>-0.078893</td>\n",
       "      <td>0</td>\n",
       "      <td>2</td>\n",
       "      <td>2</td>\n",
       "      <td>2023-12-12T16:07:29.183Z</td>\n",
       "    </tr>\n",
       "    <tr>\n",
       "      <th>794</th>\n",
       "      <td>Brandon Street, Walworth</td>\n",
       "      <td>51.489102</td>\n",
       "      <td>-0.091548</td>\n",
       "      <td>0</td>\n",
       "      <td>9</td>\n",
       "      <td>9</td>\n",
       "      <td>2023-12-12T14:10:13.54Z</td>\n",
       "    </tr>\n",
       "    <tr>\n",
       "      <th>795</th>\n",
       "      <td>The Blue, Bermondsey</td>\n",
       "      <td>51.492221</td>\n",
       "      <td>-0.062513</td>\n",
       "      <td>2</td>\n",
       "      <td>14</td>\n",
       "      <td>16</td>\n",
       "      <td>2023-12-12T16:20:23.867Z</td>\n",
       "    </tr>\n",
       "    <tr>\n",
       "      <th>796</th>\n",
       "      <td>Coomer Place, West Kensington</td>\n",
       "      <td>51.483570</td>\n",
       "      <td>-0.202038</td>\n",
       "      <td>0</td>\n",
       "      <td>13</td>\n",
       "      <td>13</td>\n",
       "      <td>2023-12-12T16:31:57.05Z</td>\n",
       "    </tr>\n",
       "    <tr>\n",
       "      <th>797</th>\n",
       "      <td>Strand, Strand</td>\n",
       "      <td>51.512582</td>\n",
       "      <td>-0.115057</td>\n",
       "      <td>1</td>\n",
       "      <td>31</td>\n",
       "      <td>32</td>\n",
       "      <td>2023-12-12T15:56:53.687Z</td>\n",
       "    </tr>\n",
       "  </tbody>\n",
       "</table>\n",
       "<p>798 rows × 7 columns</p>\n",
       "</div>"
      ],
      "text/plain": [
       "                                 location   latitude  longitude ebike_amount  \\\n",
       "0              River Street , Clerkenwell  51.529163  -0.109970            0   \n",
       "1          Phillimore Gardens, Kensington  51.499606  -0.197574            0   \n",
       "2    Christopher Street, Liverpool Street  51.521283  -0.084605            1   \n",
       "3         St. Chad's Street, King's Cross  51.530059  -0.120973            1   \n",
       "4           Sedding Street, Sloane Square  51.493130  -0.156876            0   \n",
       "..                                    ...        ...        ...          ...   \n",
       "793          Crimscott Street, Bermondsey  51.495598  -0.078893            0   \n",
       "794              Brandon Street, Walworth  51.489102  -0.091548            0   \n",
       "795                  The Blue, Bermondsey  51.492221  -0.062513            2   \n",
       "796         Coomer Place, West Kensington  51.483570  -0.202038            0   \n",
       "797                        Strand, Strand  51.512582  -0.115057            1   \n",
       "\n",
       "    std_bike_amount total_bikes                      time  \n",
       "0                12          12   2023-12-12T16:21:37.32Z  \n",
       "1                22          22   2023-12-12T16:33:57.54Z  \n",
       "2                23          24   2023-12-12T16:21:37.32Z  \n",
       "3                12          13   2023-12-12T16:28:35.23Z  \n",
       "4                25          25   2023-12-12T16:31:57.05Z  \n",
       "..              ...         ...                       ...  \n",
       "793               2           2  2023-12-12T16:07:29.183Z  \n",
       "794               9           9   2023-12-12T14:10:13.54Z  \n",
       "795              14          16  2023-12-12T16:20:23.867Z  \n",
       "796              13          13   2023-12-12T16:31:57.05Z  \n",
       "797              31          32  2023-12-12T15:56:53.687Z  \n",
       "\n",
       "[798 rows x 7 columns]"
      ]
     },
     "execution_count": 5,
     "metadata": {},
     "output_type": "execute_result"
    }
   ],
   "source": [
    "real_time_df"
   ]
  },
  {
   "cell_type": "code",
   "execution_count": 6,
   "id": "1d315d0a-1e6f-4db1-bc5d-9394c87d34c0",
   "metadata": {},
   "outputs": [
    {
     "name": "stdout",
     "output_type": "stream",
     "text": [
      "                                                 location   latitude  \\\n",
      "time                                                                   \n",
      "2023-12-12 16:21:37            River Street , Clerkenwell  51.529163   \n",
      "2023-12-12 16:33:57        Phillimore Gardens, Kensington  51.499606   \n",
      "2023-12-12 16:21:37  Christopher Street, Liverpool Street  51.521283   \n",
      "2023-12-12 16:28:35       St. Chad's Street, King's Cross  51.530059   \n",
      "2023-12-12 16:31:57         Sedding Street, Sloane Square  51.493130   \n",
      "...                                                   ...        ...   \n",
      "2023-12-12 16:07:29          Crimscott Street, Bermondsey  51.495598   \n",
      "2023-12-12 14:10:13              Brandon Street, Walworth  51.489102   \n",
      "2023-12-12 16:20:23                  The Blue, Bermondsey  51.492221   \n",
      "2023-12-12 16:31:57         Coomer Place, West Kensington  51.483570   \n",
      "2023-12-12 15:56:53                        Strand, Strand  51.512582   \n",
      "\n",
      "                     longitude ebike_amount std_bike_amount total_bikes  \n",
      "time                                                                     \n",
      "2023-12-12 16:21:37  -0.109970            0              12          12  \n",
      "2023-12-12 16:33:57  -0.197574            0              22          22  \n",
      "2023-12-12 16:21:37  -0.084605            1              23          24  \n",
      "2023-12-12 16:28:35  -0.120973            1              12          13  \n",
      "2023-12-12 16:31:57  -0.156876            0              25          25  \n",
      "...                        ...          ...             ...         ...  \n",
      "2023-12-12 16:07:29  -0.078893            0               2           2  \n",
      "2023-12-12 14:10:13  -0.091548            0               9           9  \n",
      "2023-12-12 16:20:23  -0.062513            2              14          16  \n",
      "2023-12-12 16:31:57  -0.202038            0              13          13  \n",
      "2023-12-12 15:56:53  -0.115057            1              31          32  \n",
      "\n",
      "[798 rows x 6 columns]\n"
     ]
    }
   ],
   "source": [
    "#cleaning date column\n",
    "real_time_df['time'] = pd.to_datetime(real_time_df['time'], format='ISO8601')\n",
    "real_time_df['time'] = real_time_df['time'].dt.strftime('%Y-%m-%d %H:%M:%S')\n",
    "\n",
    "# Set datetime index\n",
    "real_time_df.set_index('time', inplace=True)\n",
    "\n",
    "# Display the DataFrame\n",
    "print(real_time_df)"
   ]
  },
  {
   "cell_type": "code",
   "execution_count": 15,
   "id": "e5ba7832-d115-449d-ad7f-5a0b69666f51",
   "metadata": {},
   "outputs": [
    {
     "data": {
      "text/plain": [
       "location            object\n",
       "latitude           float64\n",
       "longitude          float64\n",
       "ebike_amount         Int64\n",
       "std_bike_amount      Int64\n",
       "total_bikes          Int64\n",
       "dtype: object"
      ]
     },
     "execution_count": 15,
     "metadata": {},
     "output_type": "execute_result"
    }
   ],
   "source": [
    "# cleaning dtypes to be ablet to make aggregations\n",
    "real_time_df.dtypes"
   ]
  },
  {
   "cell_type": "code",
   "execution_count": 10,
   "id": "258b9f85-003a-4053-be44-60a2fc36cfb1",
   "metadata": {},
   "outputs": [],
   "source": [
    "real_time_df['ebike_amount'] = pd.to_numeric(real_time_df['ebike_amount'], errors='coerce')\n",
    "real_time_df['ebike_amount'] = real_time_df['ebike_amount'].astype('Int64')\n",
    "\n",
    "real_time_df['std_bike_amount'] = pd.to_numeric(real_time_df['std_bike_amount'], errors='coerce')\n",
    "real_time_df['std_bike_amount'] = real_time_df['std_bike_amount'].astype('Int64')\n",
    "\n",
    "real_time_df['total_bikes'] = pd.to_numeric(real_time_df['total_bikes'], errors='coerce')\n",
    "real_time_df['total_bikes'] = real_time_df['total_bikes'].astype('Int64')\n"
   ]
  },
  {
   "cell_type": "code",
   "execution_count": 18,
   "id": "d7441d52-e515-493d-9186-ad8da25992bb",
   "metadata": {},
   "outputs": [
    {
     "data": {
      "text/plain": [
       "location            object\n",
       "latitude           float64\n",
       "longitude          float64\n",
       "ebike_amount         Int64\n",
       "std_bike_amount      Int64\n",
       "total_bikes          Int64\n",
       "dtype: object"
      ]
     },
     "execution_count": 18,
     "metadata": {},
     "output_type": "execute_result"
    }
   ],
   "source": [
    "real_time_df.dtypes"
   ]
  },
  {
   "cell_type": "code",
   "execution_count": 19,
   "id": "79987b25-3370-4e78-a1af-29fff4ec7f91",
   "metadata": {},
   "outputs": [
    {
     "name": "stdout",
     "output_type": "stream",
     "text": [
      "Total Bikes Sum: 10526\n"
     ]
    }
   ],
   "source": [
    "total_bikes_sum = real_time_df['total_bikes'].sum()\n",
    "print(\"Total Bikes Sum:\", total_bikes_sum)\n"
   ]
  },
  {
   "cell_type": "code",
   "execution_count": 20,
   "id": "30912fae-c3b0-4235-b34a-4853dc09870a",
   "metadata": {},
   "outputs": [],
   "source": [
    "#saving the df to csv for visualizations\n",
    "real_time_df.to_csv('bikes_12-12-23.csv', index=True)"
   ]
  },
  {
   "cell_type": "code",
   "execution_count": null,
   "id": "4fc6d07b-8c16-4de0-8273-3480eb253577",
   "metadata": {},
   "outputs": [],
   "source": []
  }
 ],
 "metadata": {
  "kernelspec": {
   "display_name": "Python 3 (ipykernel)",
   "language": "python",
   "name": "python3"
  },
  "language_info": {
   "codemirror_mode": {
    "name": "ipython",
    "version": 3
   },
   "file_extension": ".py",
   "mimetype": "text/x-python",
   "name": "python",
   "nbconvert_exporter": "python",
   "pygments_lexer": "ipython3",
   "version": "3.8.18"
  }
 },
 "nbformat": 4,
 "nbformat_minor": 5
}
